{
  "cells": [
    {
      "cell_type": "markdown",
      "metadata": {
        "id": "CqFEEt1ZNh7n"
      },
      "source": [
        "# Ca$^{2+}$ signaling simulation in multicellular epithelial tissues\n",
        "---\n",
        "\n"
      ]
    },
    {
      "cell_type": "code",
      "source": [],
      "metadata": {
        "id": "EnqyCT9g3xii"
      },
      "execution_count": null,
      "outputs": []
    },
    {
      "cell_type": "code",
      "execution_count": null,
      "metadata": {
        "id": "M2Gx2qH24KAD"
      },
      "outputs": [],
      "source": [
        "desired_simulation = \"Single cell spikes\" #@param [\"Single cell spikes\", \"Intercellular transients\", \"Intercellular waves\", \"Fluttering\"]"
      ]
    },
    {
      "cell_type": "markdown",
      "metadata": {
        "id": "cyyRY1YM71_1"
      },
      "source": [
        "# Obtain all necessary imports and packages\n",
        "---"
      ]
    },
    {
      "cell_type": "code",
      "execution_count": null,
      "metadata": {
        "id": "Vu2C0X1F71_5"
      },
      "outputs": [],
      "source": [
        "from IPython import get_ipython;\n",
        "\n",
        "import numpy as np\n",
        "import random\n",
        "import math\n",
        "import os\n",
        "import matplotlib\n",
        "import matplotlib.pyplot as plt\n",
        "import seaborn as sns\n",
        "import scipy\n",
        "import pandas as pd\n",
        "!pip install peakutils\n",
        "import peakutils\n",
        "\n",
        "from numpy import dot, multiply, diag, power\n",
        "from IPython.display import HTML\n",
        "from scipy.signal import find_peaks\n",
        "from scipy.signal import peak_widths\n",
        "from scipy.integrate import simps\n",
        "from matplotlib.animation import FuncAnimation\n",
        "from matplotlib import colors\n",
        "from matplotlib import animation\n",
        "from base64 import b64encode\n",
        "\n",
        "from google.colab import drive\n",
        "drive.mount('/content/drive')\n",
        "!wget https://github.com/MulticellularSystemsLab/MSELab_Calcium_Cartography_2021/raw/master/geometry.7z\n",
        "!7z x /content/geometry.7z"
      ]
    },
    {
      "cell_type": "markdown",
      "metadata": {
        "id": "Rs5mliHH71_6"
      },
      "source": [
        "# Code to create the wing disc pouch class and pouch operations\n",
        "**NOTE:** Do not modify the cell below\n",
        "---"
      ]
    },
    {
      "cell_type": "code",
      "execution_count": null,
      "metadata": {
        "id": "sWF4jPjh71_7"
      },
      "outputs": [],
      "source": [
        "class Pouch(object):\n",
        "    def __init__(self, params=None, size = 'xsmall', sim_number=0, save=False, saveName='default'):\n",
        "\n",
        "        \"\"\"Class implementing pouch structure and simulating Calcium signaling.\n",
        "        Inputs:\n",
        "\n",
        "        params (dict)\n",
        "            A Python dictionary of parameters to simulate with the keys:\n",
        "            ['K_PLC', 'K_5', 'k_1' , 'k_a', 'k_p', 'k_2', 'V_SERCA', 'K_SERCA', 'c_tot', 'beta', 'k_i', 'D_p', 'tau_max', 'k_tau', 'lower', 'upper','frac', 'D_c_ratio']\n",
        "\n",
        "        size (string)\n",
        "            Size of the pouch to simulate:\n",
        "            [xsmall, small, medium, or large]\n",
        "\n",
        "        sim_number (integer)\n",
        "            Represents ID of a simulation to save the figures with unique names and set the random number generator seed\n",
        "\n",
        "        save (boolean)\n",
        "            If True, the simulation outputs will be saved\n",
        "\n",
        "        saveName (string)\n",
        "            Additional distinct name to save the output files as\n",
        "\n",
        "        \"\"\"\n",
        "        # Create characteristics of the pouch object\n",
        "        self.size=size\n",
        "        self.saveName=saveName\n",
        "        self.sim_number=sim_number\n",
        "        self.save=save\n",
        "        self.param_dict=params\n",
        "\n",
        "        # If parameters are not set, then use baseline values\n",
        "        if self.param_dict==None:\n",
        "            self.param_dict={'K_PLC': 0.2, 'K_5':0.66, 'k_1':1.11 , 'k_a': 0.08, 'k_p':0.13, 'k_2':0.0203, 'V_SERCA':0.9, 'K_SERCA':0.1,\n",
        "            'c_tot':2, 'beta':.185, 'k_i':0.4, 'D_p':0.005, 'tau_max':800, 'k_tau':1.5, 'lower':0.5, 'upper':0.7, 'frac':0.007680491551459293, 'D_c_ratio':0.1}\n",
        "\n",
        "        # If a dictionary is given, assure all parameters are provided\n",
        "        if sorted([r for r in self.param_dict])!=['D_c_ratio','D_p','K_5','K_PLC','K_SERCA','V_SERCA','beta','c_tot','frac','k_1','k_2','k_a', 'k_i','k_p','k_tau','lower','tau_max','upper']:\n",
        "            print(\"Improper parameter input, please assure all parameters are specified\")\n",
        "            return\n",
        "\n",
        "        # Load statics for wing disc geometries\n",
        "        disc_vertices=np.load(\"./geometry/disc_vertices.npy\",allow_pickle=True).item() # Vertices\n",
        "        disc_laplacians=np.load(\"./geometry/disc_sizes_laplacian.npy\",allow_pickle=True).item() # Laplacian Matrix\n",
        "        disc_adjs=np.load(\"./geometry/disc_sizes_adj.npy\",allow_pickle=True).item() # Adjacency matrix\n",
        "\n",
        "        self.adj_matrix=disc_adjs[self.size] # Adjacency Matrix\n",
        "        self.laplacian_matrix=disc_laplacians[size] # Laplacian Matrix\n",
        "        self.new_vertices=disc_vertices[size] # Vertices\n",
        "\n",
        "        # Establish characteristics of the pouch for simulations\n",
        "        self.n_cells=self.adj_matrix.shape[0] # Number of cells in the pouch\n",
        "        self.dt=.2 # Time step for ODE approximations\n",
        "        self.T=int(3600/self.dt) # Simulation to run for 3600 seconds (1 hour)\n",
        "\n",
        "        # Establish baseline parameter values for the simulation\n",
        "        self.K_PLC=self.param_dict['K_PLC']  # .2\n",
        "        self.K_5=self.param_dict['K_5'] # 0.66\n",
        "        self.k_1=self.param_dict['k_1'] # 1.11\n",
        "        self.k_a=self.param_dict['k_a'] # 0.08\n",
        "        self.k_p=self.param_dict['k_p'] # 0.13\n",
        "        self.k_2=self.param_dict['k_2'] # 0.0203\n",
        "        self.V_SERCA=self.param_dict['V_SERCA'] # .9\n",
        "        self.K_SERCA=self.param_dict['K_SERCA'] # .1\n",
        "        self.c_tot=self.param_dict['c_tot'] # 2\n",
        "        self.beta=self.param_dict['beta'] # .185\n",
        "        self.k_i=self.param_dict['k_i'] # 0.4\n",
        "        self.D_p =self.param_dict['D_p'] # 0.005\n",
        "        self.D_c =self.param_dict['D_c_ratio']*self.D_p\n",
        "        self.tau_max=self.param_dict['tau_max'] # 800\n",
        "        self.k_tau=self.param_dict['k_tau'] # 1.5\n",
        "        self.lower=self.param_dict['lower'] # Lower bound of standby cell VPLCs\n",
        "        self.upper=self.param_dict['upper'] # Upper bound of standy cell VPLCs\n",
        "        self.frac=self.param_dict['frac']   # Fraction of initiator cells\n",
        "\n",
        "        self.disc_dynamics=np.zeros((self.n_cells,4,self.T)) # Initialize disc_dynamics to save simulation calcium, IP3, calcium_ER, ratio\n",
        "        self.VPLC_state=np.zeros((self.n_cells,1)) # Initialize VPLC array for cells\n",
        "\n",
        "    def simulate(self): # Simulate dynamics of system\n",
        "            np.random.seed(self.sim_number) # Set the seed for reproducibility (keep initiator cells consistent each run)\n",
        "\n",
        "            self.disc_dynamics[:,2,0] = (self.c_tot-self.disc_dynamics[:,0,0])/self.beta # Initialize simulation ER Calcium\n",
        "            self.disc_dynamics[:,3,0]=np.random.uniform(.5,.7,size=(self.n_cells,1)).T # Initialize simulation fraction of inactivated IP3R receptors\n",
        "            self.VPLC_state=np.random.uniform(self.lower,self.upper,(self.n_cells,1)) # Initialize the values for VPLCs of standby cells to be random uniformly distributed from lower to upper\n",
        "            stimulated_cell_idxs=np.random.choice(self.n_cells, int(self.frac*self.n_cells)) # Choose which cells are initiator cells\n",
        "            self.VPLC_state[stimulated_cell_idxs,0]=np.random.uniform(1.3,1.5,len(stimulated_cell_idxs)) # Set the VPLC of initiator cells to be random uniformly distributed between 1.3 and 1.5\n",
        "\n",
        "            V_PLC=self.VPLC_state.reshape((self.n_cells,1)) # Establish the VPLCs to be passed into the ODE approximations\n",
        "\n",
        "            # ODE approximation solving\n",
        "            for step in range(1,self.T):\n",
        "                # ARRAY REFORMATTING\n",
        "                ca=self.disc_dynamics[:,0,step-1].reshape(-1,1)\n",
        "                ipt=self.disc_dynamics[:,1,step-1].reshape(-1,1)\n",
        "                s=self.disc_dynamics[:,2,step-1].reshape(-1,1)\n",
        "                r=self.disc_dynamics[:,3,step-1].reshape(-1,1)\n",
        "                ca_laplacian=self.D_c*np.dot(self.laplacian_matrix,ca)\n",
        "                ipt_laplacian=self.D_p*np.dot(self.laplacian_matrix,ipt)\n",
        "\n",
        "                # ODE EQUATIONS\n",
        "                self.disc_dynamics[:,0,step]=(ca+self.dt*(ca_laplacian+(self.k_1*(np.divide(np.divide(r*np.multiply(ca,ipt),(self.k_a+ca)),(self.k_p+ipt)))**3 +self.k_2)*(s-ca)-self.V_SERCA*(ca**2)/(ca**2+self.K_SERCA**2))).T\n",
        "                self.disc_dynamics[:,1,step]=(ipt+self.dt*(ipt_laplacian+np.multiply(V_PLC,np.divide(ca**2,(ca**2+self.K_PLC**2)))-self.K_5*ipt)).T\n",
        "                self.disc_dynamics[:,2,step]=((self.c_tot-ca)/self.beta).T\n",
        "                self.disc_dynamics[:,3,step]=(r+self.dt*((self.k_tau**4+ca**4)/(self.tau_max*self.k_tau**4))*((1-r*(self.k_i+ca)/self.k_i))).T\n",
        "\n",
        "    def make_animation(self, path=None): # Creation of calcium video\n",
        "        colormap = plt.cm.Greens\n",
        "        normalize = matplotlib.colors.Normalize(vmin=np.min(self.disc_dynamics[:,0,:]), vmax=max(np.max(self.disc_dynamics[:,0,:]),1))\n",
        "        with sns.axes_style(\"white\"):\n",
        "                fig=plt.figure(figsize=(25,15))\n",
        "                fig.patch.set_alpha(0.)\n",
        "                ax = fig.add_subplot(1,1,1)\n",
        "                ax.axis('off')\n",
        "                sm = plt.cm.ScalarMappable(cmap=colormap, norm=normalize)\n",
        "                sm._A = []\n",
        "                cbar=fig.colorbar(sm, ax=ax)\n",
        "                cbar.ax.set_yticklabels(cbar.ax.get_yticklabels(), fontsize=15,fontweight=\"bold\")\n",
        "                for cell in self.new_vertices:\n",
        "                    ax.plot(cell[:,0],cell[:,1], linewidth=0.0, color='w', alpha = 0.0)\n",
        "                patches = [matplotlib.patches.Polygon(verts) for verts in self.new_vertices ]\n",
        "                def time_stamp_gen(n):\n",
        "                    j=0\n",
        "                    while j < n: # 0.2 sec interval to 1 hour time lapse\n",
        "                        yield \"Elapsed time: \"+'{0:02.0f}:{1:02.0f}'.format(*divmod(j*self.dt , 60))\n",
        "                        j+= 50\n",
        "                time_stamps=time_stamp_gen(self.T)\n",
        "                def init():\n",
        "                    return [ax.add_patch(p) for p in patches]\n",
        "\n",
        "                def animate(frame,time_stamps):\n",
        "                    for j in range(len(patches)):\n",
        "                        c=colors.to_hex(colormap(normalize(frame[j])), keep_alpha=False)\n",
        "                        patches[j].set_facecolor(c)\n",
        "                    ax.set_title( next(time_stamps) ,fontsize=50, fontweight=\"bold\")\n",
        "                    return patches\n",
        "\n",
        "                anim = animation.FuncAnimation(fig, animate,\n",
        "                                               init_func=init,\n",
        "                                               frames=self.disc_dynamics[:,0,::50].T, # Disc dynamics: Array of: [n cells x 4 x time-samples]\n",
        "                                               fargs=(time_stamps,),\n",
        "                                               interval=70,\n",
        "                                               blit=True)\n",
        "        if self.save:\n",
        "            if path!=None:\n",
        "                if not os.path.exists(path):\n",
        "                    os.makedirs(path)\n",
        "                #anim.save(path+\"/\"+self.size+'Disc_'+str(self.sim_number)+'_'+self.saveName+'.mp4') # Used to save the pouch for non-demo wing simulations\n",
        "                anim.save(path+\"/\"+'demo_video.mp4') # Used to save specifically the demo videos\n",
        "            else:\n",
        "                print(\"Provide a path for saving videos\")\n",
        "\n",
        "    def draw_profile(self, path=None): # Draw the VPLC Profile for the simulation\n",
        "        colormap = plt.cm.Blues\n",
        "        normalize = matplotlib.colors.Normalize(vmin=.0, vmax=1.5)\n",
        "        with sns.axes_style(\"white\"):\n",
        "                fig=plt.figure(figsize=(18,10))\n",
        "                ax = fig.add_subplot(1,1,1)\n",
        "                ax.axis('off')\n",
        "                fig.patch.set_alpha(0.)\n",
        "                sm = plt.cm.ScalarMappable(cmap=colormap, norm=normalize)\n",
        "                sm._A = []\n",
        "                cbar=fig.colorbar(sm, ax=ax)\n",
        "                cbar.ax.set_yticklabels(cbar.ax.get_yticklabels(), fontsize=80,fontweight=\"bold\" )\n",
        "                for cell in self.new_vertices:\n",
        "                    ax.plot(cell[:,0],cell[:,1], linewidth=1.0, color='k')\n",
        "                for k in range(len(self.new_vertices)):\n",
        "                        cell=self.new_vertices[k]\n",
        "                        c=colors.to_hex(colormap(normalize(self.VPLC_state[k]))[0], keep_alpha=False)\n",
        "                        ax.fill(cell[:,0],cell[:,1], c)\n",
        "\n",
        "        if self.save:\n",
        "            if path!=None:\n",
        "                if not os.path.exists(path):\n",
        "                    os.makedirs(path)\n",
        "                fig.savefig(path+\"/\"+self.size+'Disc_VPLCProfile_'+str(self.sim_number)+'_'+self.saveName+\".png\",transparent=True, bbox_inches=\"tight\")\n",
        "            else:\n",
        "                print(\"Provide a path for saving images\")\n",
        "\n",
        "    def draw_kymograph(self, path=None): # Draw the calcium Kymograph for the simulation\n",
        "        with sns.axes_style(\"white\"):\n",
        "            centeriods= np.zeros((self.adj_matrix.shape[0],2))\n",
        "            for j in range(self.adj_matrix.shape[0]):\n",
        "                x_center, y_center=self.new_vertices[j].mean(axis=0)\n",
        "                centeriods[j,0],centeriods[j,1]=x_center, y_center\n",
        "            y_axis=centeriods[:,1]\n",
        "            kymograp_index=np.where((y_axis<(-490)) & (y_axis>(-510))) # Location of where to draw the kymograph line\n",
        "\n",
        "            colormap = plt.cm.Greens\n",
        "            normalize = matplotlib.colors.Normalize(vmin=np.min(self.disc_dynamics[:,0,:]), vmax=max(1,np.max(self.disc_dynamics[:,0,:])))\n",
        "            fig=plt.figure(figsize=(30,10))\n",
        "            kymograph=self.disc_dynamics[kymograp_index,0,::][0][:,::2]\n",
        "            kymograph=np.repeat(kymograph,60,axis=0)\n",
        "\n",
        "            plt.imshow(kymograph.T,cmap=colormap,norm=normalize)\n",
        "            ax = plt.gca()\n",
        "            plt.yticks(np.arange(0,self.T/2,1498) , [0,10,20,30,40,50,60],fontsize=30, fontweight=\"bold\")\n",
        "            plt.xticks([])\n",
        "            plt.ylabel('Time (min)',fontsize=30,fontweight='bold')\n",
        "            if self.size=='xsamll':\n",
        "                plt.xlabel('Position',fontsize=20,fontweight='bold')\n",
        "            else:\n",
        "                plt.xlabel('Position',fontsize=30,fontweight='bold')\n",
        "\n",
        "            if self.save:\n",
        "                if path!=None:\n",
        "                    if not os.path.exists(path):\n",
        "                        os.makedirs(path)\n",
        "                    fig.savefig(path+\"/\"+self.size+'Disc_Kymograph_'+str(self.sim_number)+'_'+self.saveName+\".png\",transparent=True, bbox_inches=\"tight\")\n",
        "                else:\n",
        "                    print(\"Provide a path for saving images\")\n",
        "\n",
        "        del kymograph\n",
        "\n",
        "    # Pouch method to obtain the signal dynamics of cells above/below a certain threshold\n",
        "    # Method also stores the cell VPLC value\n",
        "    # threshold: Used to adjust a baseline threshold that you want to filter cells by\n",
        "    # whichSignal: Used to determine if we want 'Calcium', 'IP3', 'ER Calcium', or 'IP3R' signaling dynamics\n",
        "    # wantSignal: Boolean to determine if we want cells above threshold (True), or cells below threshold (False)\n",
        "    def getSignalCells(self, threshold = 0.06, whichSignal = 'Calcium', wantSignal = True):\n",
        "        if whichSignal == 'Calcium':\n",
        "            selector = 0\n",
        "        elif whichSignal == 'IP3':\n",
        "            selector = 1\n",
        "        elif whichSignal == 'ER Calcium':\n",
        "            selector = 2\n",
        "        elif whichSignal == 'IP3R':\n",
        "            selector = 3\n",
        "        else:\n",
        "            selector = 0\n",
        "\n",
        "        VPLCdf = pd.DataFrame(self.VPLC_state) # Obtain the pouch VPLCs\n",
        "        VPLCdf.rename(columns={VPLCdf.columns[-1]: \"VPLC\" }, inplace = True) # Rename the dataframe column to \"VPLC\"\n",
        "        temp = pd.concat([pd.DataFrame(self.disc_dynamics[:,selector,:]), VPLCdf], axis=1)\n",
        "        signalsIndex = []\n",
        "        nonSignalsIndex = []\n",
        "\n",
        "        checkSignal = temp.iloc[:,0:-1].mean(axis=1)\n",
        "\n",
        "        for i in range(0, self.n_cells):\n",
        "            if checkSignal[i] >= threshold:\n",
        "                signalsIndex.append(i)\n",
        "            else:\n",
        "                nonSignalsIndex.append(i)\n",
        "\n",
        "        signalCells = temp.iloc[signalsIndex]\n",
        "        nonSignalCells = temp.iloc[nonSignalsIndex]\n",
        "        if wantSignal:\n",
        "            return signalCells\n",
        "        else:\n",
        "            return nonSignalCells\n",
        "\n",
        "    # Pouch method to get baseline signal of desired dynamic plus 5 percent\n",
        "    # whichSignal: 'Calcium', 'IP3', 'ER Calcium', 'IP3R'\n",
        "    def getBaselineSignal(self, whichSignal = 'Calcium'):\n",
        "         return 1.05*peakutils.baseline(self.getSignalCells(threshold = 0.00, whichSignal = whichSignal, wantSignal = True).iloc[:,:-1].mean()).mean()\n",
        "\n",
        "    # Pouch method to plot the frequency width at half-maximum (FWHM) for a desired signal type\n",
        "    # peakWidthDist: Adjustable parameter to increase/decrease the desired range to search for peaks in the signal\n",
        "    # typeActivity: String to be passed into the plotting parameters\n",
        "    # whichSignal: Plot the FWHM for which of the four: 'Calcium', 'IP3', 'ER Calcium', 'IP3R'\n",
        "    # baselineThreshold: Argument passed to plot the signal of cells that have above the baseline threshold\n",
        "    # getStats: Boolean to determine if we want to display signal statistics (True), or suppress signal statistics output (False)\n",
        "    # saveFig: Boolean to determine if we want to save the output figure\n",
        "    # path: Where do we want to save the output figure?\n",
        "    def plotFWHM(self, plotLim, peakWidthDist = 100, typeActivity = 'Spike', whichSignal = 'Calcium', baselineThreshold = 'auto', getStats = True, saveFig = False, path = './testResults/cellSizeControl', outputPlot = True):\n",
        "        if baselineThreshold == 'auto':\n",
        "            baselineThreshold = self.getBaselineSignal(whichSignal = whichSignal)\n",
        "        else:\n",
        "            baselineThreshold = baselineThreshold\n",
        "        signaling = self.getSignalCells(threshold = baselineThreshold, whichSignal = whichSignal).iloc[:,1:-1] # Signaling Cells. 1:-1 selects time steps but not the VPLC value\n",
        "        nonSignaling = self.getSignalCells(threshold = baselineThreshold, whichSignal = whichSignal, wantSignal = False).iloc[:,1:-1] # Non-Spiking Cells. 1:-1 selects time steps but not the VPLC value\n",
        "        a = pd.DataFrame(signaling.iloc[:,:-1].mean().transpose())\n",
        "        a = a.rename(columns={0: 'signal'})\n",
        "        b = pd.DataFrame(nonSignaling.iloc[:,:-1].mean().transpose())\n",
        "        b = b.rename(columns={0: 'nosignal'})\n",
        "        b['Time (s)'] = b.index.to_frame()*0.2\n",
        "        concat = pd.concat([a,b], axis=1)\n",
        "\n",
        "        peakIndexes = list(find_peaks(concat['signal'][0:], distance=peakWidthDist))[0]\n",
        "        peaksPlot = concat.sort_index().loc[peakIndexes]\n",
        "        nPeaks = len(peakIndexes)\n",
        "        minimumIntensity = concat['signal'].min()\n",
        "        maximumIntensity = concat['signal'].max()\n",
        "        medPeakIntensity = peaksPlot['signal'].median()\n",
        "\n",
        "        getPeakWidths = peak_widths(concat['signal'][0:], peakIndexes, rel_height=0.5)\n",
        "        WHM = [[x*0.2 for x in y] for y in getPeakWidths]\n",
        "        WHM[1] = [x/0.2 for x in WHM[1]]\n",
        "        FWHM = WHM[0]\n",
        "        medianFWHM = pd.DataFrame(FWHM).median()[0]\n",
        "\n",
        "        period = []\n",
        "        for i in range(0,nPeaks-1):\n",
        "            period.append(peaksPlot['Time (s)'].iloc[i+1] - peaksPlot['Time (s)'].iloc[i])\n",
        "        freq = 1/pd.DataFrame(period).median()[0]\n",
        "        fullFreq = 1/pd.DataFrame(period)\n",
        "\n",
        "        integratedInt = simps(concat['signal'], dx=self.dt)\n",
        "\n",
        "        stdErrMedPeak = 1.96 * 1.2533 * peaksPlot['signal'].std() / np.sqrt(len(peaksPlot['signal']))\n",
        "        stdErrMedFWHM = 1.96 * 1.2533 * pd.DataFrame(FWHM).std() / np.sqrt(len(pd.DataFrame(FWHM)))\n",
        "        stdErrFreq = 1.96 * 1.2533 * fullFreq.std() / np.sqrt(len(fullFreq))\n",
        "\n",
        "        statsDict = {'Min Intensity': minimumIntensity,\n",
        "                     'Max Intensity': maximumIntensity,\n",
        "                     'Median Peak Intensity': medPeakIntensity,\n",
        "                     'Number of Peaks': nPeaks,\n",
        "                     'Median FWHM': medianFWHM,\n",
        "                     'Median Frequency': freq,\n",
        "                     'Integrated Intensity': integratedInt,\n",
        "                     'Std. Error Median Peak Intensity': stdErrMedPeak,\n",
        "                     'Std. Error Median FWHM': stdErrMedFWHM[0],\n",
        "                     'Std. Error Median Frequency': stdErrFreq[0]}\n",
        "\n",
        "        if outputPlot:\n",
        "            plt.figure()\n",
        "            ax = concat.plot(x='Time (s)', legend=None)\n",
        "            if isinstance(plotLim,list):\n",
        "                ax.set_ylim(plotLim)\n",
        "            else:\n",
        "                ax.set_ylim(auto=True)\n",
        "            ax.set_ylabel(whichSignal + ' Intensity (a.u.)')\n",
        "            ax.set_xlabel('Time (s)')\n",
        "            ax.set_title('Raw Signal ' + typeActivity)\n",
        "            ax.legend(['Signal Cells', 'Non-signal Cells'], loc=2, bbox_to_anchor=(1.1,0.8))\n",
        "            ax.plot(peaksPlot['Time (s)'], peaksPlot['signal'], 'o')\n",
        "            ax.hlines(*WHM[1:], color=\"C2\")\n",
        "            plt.show()\n",
        "\n",
        "        if saveFig:\n",
        "            if path!=None:\n",
        "                if not os.path.exists(path):\n",
        "                    os.makedirs(path)\n",
        "                ax.get_figure().savefig(path+\"/\"+typeActivity+\"_\"+whichSignal+\"_\"+str(self.n_cells)+\"Cells\"+\"_FWHM\"+\".pdf\",transparent=True, bbox_inches=\"tight\")\n",
        "            else:\n",
        "                print(\"Provide a path for saving images\")\n",
        "\n",
        "        if getStats:\n",
        "            for x, y in statsDict.items():\n",
        "                print(x, y)\n",
        "            return statsDict\n",
        "\n",
        "    # Pouch method to plot all four of the signaling dynamics on a single plot\n",
        "    # typeAcitivty: String to be passed into the plot title\n",
        "    # baselineThreshold: Array of size 4 to filter cell signals above a certain threshold\n",
        "    # saveFig: Boolean to determine if we would like to save the output figure\n",
        "    # path: Where do we want to save the output figure?\n",
        "    # nameAppend: String to append to the save file name\n",
        "    def plotAllDynamics(self, typeActivity = 'Spike', baselineThreshold = 'auto', saveFig = False, path = './testResults/cellSizeControl', nameAppend = 'allDynamics'):\n",
        "        def make_patch_spines_invisible(ax):\n",
        "            ax.set_frame_on(True)\n",
        "            ax.patch.set_visible(False)\n",
        "            for sp in ax.spines.values():\n",
        "                sp.set_visible(False)\n",
        "\n",
        "        if baselineThreshold == 'auto':\n",
        "            baselineThreshold = [self.getBaselineSignal(whichSignal = 'Calcium'), self.getBaselineSignal(whichSignal = 'IP3'), 0.0, 0.0]\n",
        "        else:\n",
        "            baselineThreshold = baselineThreshold\n",
        "\n",
        "        signals = ['Calcium', 'IP3', 'ER Calcium', 'IP3R']\n",
        "        signaling = {key: 0 for key in signals}\n",
        "        nonSignaling = {key: 0 for key in signals}\n",
        "        a = {key: 0 for key in signals}\n",
        "        b = {key: 0 for key in signals}\n",
        "\n",
        "        for i in range(0, len(signals)):\n",
        "            signaling[signals[i]] = self.getSignalCells(baselineThreshold[i], signals[i]) # Signaling Cells\n",
        "            nonSignaling[signals[i]] = self.getSignalCells(baselineThreshold[i], signals[i], wantSignal = False) # Non-Spiking Cells\n",
        "            a[signals[i]] = pd.DataFrame(signaling[signals[i]].iloc[:,25:-1].mean().transpose()) # Plotting dataframes. 2:-1 selects time steps but not the VPLC value\n",
        "            a[signals[i]] = a[signals[i]].rename(columns={0: 'signal'+signals[i]})\n",
        "            b[signals[i]] = pd.DataFrame(nonSignaling[signals[i]].iloc[:,25:-1].mean().transpose()) # Plotting dataframes. 2:-1 selects time steps but not the VPLC value\n",
        "            b[signals[i]] = b[signals[i]].rename(columns={0: 'nosignal'+signals[i]})\n",
        "\n",
        "        timedf = b['Calcium'].index.to_frame()*0.2\n",
        "        concat = pd.concat([timedf,\n",
        "                           a['Calcium'],\n",
        "                           a['IP3'],\n",
        "                           a['ER Calcium'],\n",
        "                           a['IP3R'],\n",
        "                           b['Calcium'],\n",
        "                           b['IP3'],\n",
        "                           b['ER Calcium'],\n",
        "                           b['IP3R'],], axis=1)\n",
        "        concat = concat.rename(columns={0: 'Time (s)'})\n",
        "\n",
        "        fig, host = plt.subplots()\n",
        "        fig.subplots_adjust(right=0.75)\n",
        "\n",
        "        par1 = host.twinx()\n",
        "        par2 = host.twinx()\n",
        "        par3 = host.twinx()\n",
        "\n",
        "        par2.spines[\"right\"].set_position((\"axes\", 1.2))\n",
        "        par3.spines[\"right\"].set_position((\"axes\", 1.4))\n",
        "        make_patch_spines_invisible(par2)\n",
        "        par2.spines[\"right\"].set_visible(True)\n",
        "\n",
        "        p1, = host.plot(concat['Time (s)'], a['Calcium'], \"b-\", label=\"Calcium Intensity (a.u.)\")\n",
        "        p2, = par1.plot(concat['Time (s)'], a['IP3'], \"r-\", label=\"IP3 Intensity (a.u.)\")\n",
        "        p3, = par2.plot(concat['Time (s)'], a['ER Calcium'], \"g-\", label=\"ER Calcium Intensity (a.u.)\")\n",
        "        p4, = par3.plot(concat['Time (s)'], a['IP3R'], \"m-\", label=\"Fraction of inactive IP3 Receptors\")\n",
        "\n",
        "        host.set_xlabel(\"Time (s)\")\n",
        "        host.set_ylabel(\"Calcium Intensity (a.u.)\")\n",
        "        par1.set_ylabel(\"IP3 Intensity (a.u.)\")\n",
        "        par2.set_ylabel(\"ER Calcium Intensity (a.u.)\")\n",
        "        par3.set_ylabel(\"Fraction of inactive IP3 Receptors\")\n",
        "\n",
        "        host.yaxis.label.set_color(p1.get_color())\n",
        "        par1.yaxis.label.set_color(p2.get_color())\n",
        "        par2.yaxis.label.set_color(p3.get_color())\n",
        "        par3.yaxis.label.set_color(p4.get_color())\n",
        "\n",
        "        tkw = dict(size=4, width=1.5)\n",
        "        host.tick_params(axis='y', colors=p1.get_color(), **tkw)\n",
        "        par1.tick_params(axis='y', colors=p2.get_color(), **tkw)\n",
        "        par2.tick_params(axis='y', colors=p3.get_color(), **tkw)\n",
        "        par3.tick_params(axis='y', colors=p4.get_color(), **tkw)\n",
        "        host.tick_params(axis='x', **tkw)\n",
        "\n",
        "        lines = [p1, p2, p3, p4]\n",
        "\n",
        "        host.legend(lines, [l.get_label() for l in lines], loc=2, bbox_to_anchor=(1.6, 0.8))\n",
        "\n",
        "        plt.show()\n",
        "\n",
        "        if saveFig:\n",
        "            if path!=None:\n",
        "                if not os.path.exists(path):\n",
        "                    os.makedirs(path)\n",
        "                host.get_figure().savefig(path+\"/\"+typeActivity+\"_\"+str(self.n_cells)+\"Cells\"+\"_\"+nameAppend+\".pdf\",transparent=True, bbox_inches=\"tight\")\n",
        "            else:\n",
        "                print(\"Provide a path for saving images\")\n",
        "\n",
        "    def signalHeatMap(self, whichSignal = 'Calcium', lowerLim = 'auto', upperLim = 'auto', path=None, saveFig = False, hideFig = True, typeActivity = 'Spike'):\n",
        "        if whichSignal == 'Calcium':\n",
        "            selector = 0\n",
        "        elif whichSignal == 'IP3':\n",
        "            selector = 1\n",
        "        elif whichSignal == 'ER Calcium':\n",
        "            selector = 2\n",
        "        elif whichSignal == 'IP3R':\n",
        "            selector = 3\n",
        "        else:\n",
        "            selector = 0\n",
        "\n",
        "        summedDynamics = pd.DataFrame(self.disc_dynamics[:,selector,:]).sum(axis=1)\n",
        "\n",
        "        if isinstance(lowerLim, str):\n",
        "            minValue = summedDynamics.min()\n",
        "        else:\n",
        "            minValue = lowerLim\n",
        "\n",
        "        if isinstance(upperLim, str):\n",
        "            maxValue = summedDynamics.max()\n",
        "        else:\n",
        "            maxValue = upperLim\n",
        "\n",
        "        colormap = plt.cm.inferno\n",
        "        normalize = matplotlib.colors.Normalize(vmin=minValue, vmax=maxValue)\n",
        "        with sns.axes_style(\"white\"):\n",
        "                fig=plt.figure(figsize=(18,10))\n",
        "                ax = fig.add_subplot(1,1,1)\n",
        "                ax.axis('off')\n",
        "                fig.patch.set_alpha(0.)\n",
        "                sm = plt.cm.ScalarMappable(cmap=colormap, norm=normalize)\n",
        "                sm._A = []\n",
        "                cbar=fig.colorbar(sm, ax=ax)\n",
        "                cbar.ax.set_yticklabels(cbar.ax.get_yticklabels(), fontsize=80,fontweight=\"bold\" )\n",
        "\n",
        "                for cell in self.new_vertices:\n",
        "                    ax.plot(cell[:,0],cell[:,1], linewidth=1.0, color='k')\n",
        "\n",
        "                for k in range(len(self.new_vertices)):\n",
        "                        cell=self.new_vertices[k]\n",
        "                        c=colors.to_hex(colormap(normalize(summedDynamics.iloc[k])), keep_alpha=False)\n",
        "                        ax.fill(cell[:,0],cell[:,1], c)\n",
        "\n",
        "        if saveFig:\n",
        "            if path!=None:\n",
        "                if not os.path.exists(path):\n",
        "                    os.makedirs(path)\n",
        "                plt.savefig(path+\"/\"+whichSignal+\"_\"+str(self.n_cells)+\"Cells\"+\"_\"+\"heatMap\"+\"_\"+typeActivity+\".png\",transparent=True, bbox_inches=\"tight\")\n",
        "            else:\n",
        "                print(\"Provide a path for saving images\")\n",
        "        if hideFig:\n",
        "            plt.close(fig)"
      ]
    },
    {
      "cell_type": "markdown",
      "metadata": {
        "id": "gdGNQXy072AF"
      },
      "source": [
        "# Establish simulation parameters based on user input\n",
        "---"
      ]
    },
    {
      "cell_type": "code",
      "execution_count": null,
      "metadata": {
        "id": "sFk50JIS72AI"
      },
      "outputs": [],
      "source": [
        "if desired_simulation == \"Single cell spikes\": # If spikes\n",
        "  lower_VPLC = 0.1\n",
        "  upper_VPLC = 0.5\n",
        "  save_Name = \"Spikes\"\n",
        "elif desired_simulation == \"Intercellular transients\": # If ICTs\n",
        "  lower_VPLC = 0.25\n",
        "  upper_VPLC = 0.6\n",
        "  save_Name = \"ICT\"\n",
        "elif desired_simulation == \"Intercellular waves\": # If ICWs\n",
        "  lower_VPLC = 0.4\n",
        "  upper_VPLC = 0.8\n",
        "  save_Name = \"ICW\"\n",
        "elif desired_simulation == \"Fluttering\": # If Fluttering\n",
        "  lower_VPLC = 1.4\n",
        "  upper_VPLC = 1.5\n",
        "  save_Name = \"Fluttering\"\n",
        "else: # Default to ICW simulation\n",
        "  lower_VPLC = 0.4\n",
        "  upper_VPLC = 0.8\n",
        "  save_Name = \"ICW\"\n",
        "\n",
        "sim_params={'K_PLC': 0.2,\n",
        "            'K_5':0.66,\n",
        "            'k_1':1.11 ,\n",
        "            'k_a': 0.08,\n",
        "            'k_p':0.13,\n",
        "            'k_2':0.0203,\n",
        "            'V_SERCA':0.9,\n",
        "            'K_SERCA':0.1,\n",
        "            'c_tot':2,\n",
        "            'beta':.185,\n",
        "            'k_i':0.4,\n",
        "            'D_p':0.005,\n",
        "            'tau_max':800,\n",
        "            'k_tau':1.5,\n",
        "            'lower':lower_VPLC,\n",
        "            'upper':upper_VPLC,\n",
        "            'frac':0.007680491551459293,\n",
        "            'D_c_ratio':0.1}\n",
        "\n",
        "saveFolderName = './simulationResults/Pouch_Visualization' # The folder where simulation results are to be saved for this notebook\n",
        "if not os.path.exists(saveFolderName): # Create the folder if it does not yet exist\n",
        "    os.makedirs(saveFolderName)"
      ]
    },
    {
      "cell_type": "markdown",
      "metadata": {
        "id": "eueywt0172AI"
      },
      "source": [
        "# Create the pouch objects\n",
        "---"
      ]
    },
    {
      "cell_type": "code",
      "execution_count": null,
      "metadata": {
        "id": "QJcx0isn72AJ"
      },
      "outputs": [],
      "source": [
        "p_Simulation=Pouch(params=sim_params, size='large', sim_number=12345, save=True, saveName='Demo_Simulation')"
      ]
    },
    {
      "cell_type": "markdown",
      "metadata": {
        "id": "zAk-RlBN72AJ"
      },
      "source": [
        "# Run simulations the pouch\n",
        "**NOTE:** This cell may take ~5-8 minutes to run on Google's virtual machine.\n",
        "---"
      ]
    },
    {
      "cell_type": "code",
      "execution_count": null,
      "metadata": {
        "id": "2Ve3aFZc72AK"
      },
      "outputs": [],
      "source": [
        "p_Simulation.simulate()"
      ]
    },
    {
      "cell_type": "markdown",
      "metadata": {
        "id": "YX_NBlrk72AK"
      },
      "source": [
        "# Draw the $V_{PLC}$ profile for the pouch\n",
        "---"
      ]
    },
    {
      "cell_type": "code",
      "execution_count": null,
      "metadata": {
        "id": "SvEMvF6l72AK"
      },
      "outputs": [],
      "source": [
        "p_Simulation.draw_profile(saveFolderName)"
      ]
    },
    {
      "cell_type": "markdown",
      "metadata": {
        "id": "gQv4AuAI72AM"
      },
      "source": [
        "# Draw the calcium kymograph for the pouch\n",
        "---\n",
        "Exercise and questions for thought:\n",
        "\n",
        "\n",
        "*   What is a kymograph?\n",
        "*   What is a kymograph?\n",
        "*   How would you estimate the velocity of the traveling wave?\n"
      ]
    },
    {
      "cell_type": "code",
      "execution_count": null,
      "metadata": {
        "id": "hz1eecDJ72AM"
      },
      "outputs": [],
      "source": [
        "p_Simulation.draw_kymograph(saveFolderName)"
      ]
    },
    {
      "cell_type": "markdown",
      "metadata": {
        "id": "-kojzzWq72AM"
      },
      "source": [
        "# Generate the simulation video for the pouch\n",
        "**NOTE:** This cell may take ~15-18 minutes to run on Google's virtual machine.\n",
        "---"
      ]
    },
    {
      "cell_type": "code",
      "execution_count": null,
      "metadata": {
        "colab": {
          "background_save": true
        },
        "id": "kCgZ3iak72AM"
      },
      "outputs": [],
      "source": [
        "p_Simulation.make_animation(saveFolderName)"
      ]
    },
    {
      "cell_type": "markdown",
      "metadata": {
        "id": "ddSh7EF3dqIo"
      },
      "source": [
        "# Play video simulation\n",
        "---"
      ]
    },
    {
      "cell_type": "code",
      "execution_count": null,
      "metadata": {
        "colab": {
          "background_save": true
        },
        "id": "eHsRvoTvdqYM"
      },
      "outputs": [],
      "source": [
        "mp4 = open('/content/simulationResults/Pouch_Visualization/demo_video.mp4','rb').read()\n",
        "data_url = \"data:video/mp4;base64,\" + b64encode(mp4).decode()\n",
        "HTML(\"\"\"\n",
        "<video width=600 controls>\n",
        "      <source src=\"%s\" type=\"video/mp4\">\n",
        "</video>\n",
        "\"\"\" % data_url)"
      ]
    },
    {
      "cell_type": "markdown",
      "metadata": {
        "id": "STyaBBwCgMCv"
      },
      "source": [
        "# Set up additional signaling dynamics tests\n",
        "---"
      ]
    },
    {
      "cell_type": "code",
      "execution_count": null,
      "metadata": {
        "colab": {
          "background_save": true
        },
        "id": "saIKgss572AN"
      },
      "outputs": [],
      "source": [
        "pouchesList = [p_Simulation]\n",
        "saveFolderName = './simulationResults/Additional_Plots' # The folder where simulation results are to be saved for this notebook\n",
        "if not os.path.exists(saveFolderName): # Create the folder if it does not yet exist\n",
        "    os.makedirs(saveFolderName)"
      ]
    },
    {
      "cell_type": "markdown",
      "metadata": {
        "id": "uzxbgH8CgQ9M"
      },
      "source": [
        "# Plot the cytosolic calcium, IP$_3$, ER calcium, and fraction of inactive IP$_3$ receptors\n",
        "---"
      ]
    },
    {
      "cell_type": "code",
      "execution_count": null,
      "metadata": {
        "colab": {
          "background_save": true
        },
        "id": "t4rLRPVsb81V"
      },
      "outputs": [],
      "source": [
        "for i in range(0, len(pouchesList)):\n",
        "    pouchesList[i].plotAllDynamics(typeActivity = save_Name, baselineThreshold = 'auto', saveFig=True, nameAppend = \"AllDynamics\", path=saveFolderName)"
      ]
    },
    {
      "cell_type": "markdown",
      "metadata": {
        "id": "LyGA22n_gVNF"
      },
      "source": [
        "# Plot the kernel density estimate for mean cytosolic calcium activity over time\n",
        "---"
      ]
    },
    {
      "cell_type": "code",
      "execution_count": null,
      "metadata": {
        "colab": {
          "background_save": true
        },
        "id": "QAjqKB6wgCf-"
      },
      "outputs": [],
      "source": [
        "for i in range(0, len(pouchesList)):\n",
        "  testdf = pd.DataFrame(pouchesList[i].disc_dynamics[:,0,:]).T\n",
        "  testdf['Mean Calcium'] = testdf.mean(axis=1)\n",
        "  timedf = testdf.index.to_frame()*0.2\n",
        "  testdf['Time (s)'] = timedf\n",
        "\n",
        "  sns.jointplot(data=testdf,\n",
        "                x='Time (s)',\n",
        "                y='Mean Calcium',\n",
        "                n_levels=10,\n",
        "                alpha=0.40,\n",
        "                kind='kde',\n",
        "                space=0.2,\n",
        "                color='g',\n",
        "                fill=True,\n",
        "                xlim=[0, 3600])"
      ]
    },
    {
      "cell_type": "markdown",
      "metadata": {
        "id": "k4gPJcEMgbJC"
      },
      "source": [
        "# Plot the spatial heat map for cytosolic calcium throughout the simulation\n",
        "---"
      ]
    },
    {
      "cell_type": "code",
      "execution_count": null,
      "metadata": {
        "colab": {
          "background_save": true
        },
        "id": "_-2R-eutgZJf"
      },
      "outputs": [],
      "source": [
        "for i in range(0, len(pouchesList)):\n",
        "    pouchesList[i].signalHeatMap(whichSignal='Calcium', lowerLim=0, upperLim='auto', path=saveFolderName, saveFig = True, hideFig = False, typeActivity=save_Name)"
      ]
    },
    {
      "cell_type": "markdown",
      "metadata": {
        "id": "xW04FuhHgrN9"
      },
      "source": [
        "# Plot the spatial heat map for IP$_3$ throughout the simulation\n",
        "---"
      ]
    },
    {
      "cell_type": "code",
      "execution_count": null,
      "metadata": {
        "colab": {
          "background_save": true
        },
        "id": "ictRqA-fgs21"
      },
      "outputs": [],
      "source": [
        "for i in range(0, len(pouchesList)):\n",
        "    pouchesList[i].signalHeatMap(whichSignal='IP3', lowerLim=0, upperLim='auto', path=saveFolderName, saveFig = True, hideFig = False, typeActivity=save_Name)"
      ]
    },
    {
      "cell_type": "markdown",
      "metadata": {
        "id": "t91dQyL3g0Gf"
      },
      "source": [
        "# Plot the spatial heat map for ER calcium throughout the simulation\n",
        "---"
      ]
    },
    {
      "cell_type": "code",
      "execution_count": null,
      "metadata": {
        "colab": {
          "background_save": true
        },
        "id": "F5EfsuO-g2m9"
      },
      "outputs": [],
      "source": [
        "for i in range(0, len(pouchesList)):\n",
        "    pouchesList[i].signalHeatMap(whichSignal='ER Calcium', lowerLim='auto', upperLim='auto', path=saveFolderName, saveFig = True, hideFig = False, typeActivity=save_Name)"
      ]
    },
    {
      "cell_type": "markdown",
      "metadata": {
        "id": "zyRJAA-ig-sP"
      },
      "source": [
        "# Plot the spatial heat map for inactive IP$_3$ receptors throughout the simulation\n",
        "---"
      ]
    },
    {
      "cell_type": "code",
      "execution_count": null,
      "metadata": {
        "colab": {
          "background_save": true
        },
        "id": "Zr3LmYMqhCxg"
      },
      "outputs": [],
      "source": [
        "for i in range(0, len(pouchesList)):\n",
        "    pouchesList[i].signalHeatMap(whichSignal='IP3R', lowerLim='auto', upperLim='auto', path=saveFolderName, saveFig = True, hideFig = False, typeActivity=save_Name)"
      ]
    }
  ],
  "metadata": {
    "colab": {
      "collapsed_sections": [
        "Rs5mliHH71_6"
      ],
      "provenance": []
    },
    "kernelspec": {
      "display_name": "Python 3",
      "language": "python",
      "name": "python3"
    },
    "language_info": {
      "codemirror_mode": {
        "name": "ipython",
        "version": 3
      },
      "file_extension": ".py",
      "mimetype": "text/x-python",
      "name": "python",
      "nbconvert_exporter": "python",
      "pygments_lexer": "ipython3",
      "version": "3.6.4"
    },
    "latex_envs": {
      "LaTeX_envs_menu_present": true,
      "autoclose": false,
      "autocomplete": true,
      "bibliofile": "biblio.bib",
      "cite_by": "apalike",
      "current_citInitial": 1,
      "eqLabelWithNumbers": true,
      "eqNumInitial": 1,
      "hotkeys": {
        "equation": "Ctrl-E",
        "itemize": "Ctrl-I"
      },
      "labels_anchors": false,
      "latex_user_defs": false,
      "report_style_numbering": false,
      "user_envs_cfg": false
    }
  },
  "nbformat": 4,
  "nbformat_minor": 0
}